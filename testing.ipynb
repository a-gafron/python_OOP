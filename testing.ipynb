{
 "cells": [
  {
   "cell_type": "code",
   "execution_count": 5,
   "metadata": {},
   "outputs": [
    {
     "name": "stdout",
     "output_type": "stream",
     "text": [
      "\u001b[1m============================= test session starts =============================\u001b[0m\n",
      "platform win32 -- Python 3.11.7, pytest-7.4.0, pluggy-1.0.0 -- C:\\Users\\Alex\\anaconda3\\python.exe\n",
      "cachedir: .pytest_cache\n",
      "rootdir: d:\\VS Code Workspace\\python_OOP\\python_OOP\n",
      "plugins: anyio-4.2.0\n",
      "\u001b[1mcollecting ... \u001b[0mcollected 11 items\n",
      "\n",
      "test_product.py::test_product_init \u001b[32mPASSED\u001b[0m\u001b[32m                                [  9%]\u001b[0m\n",
      "test_product.py::test_product_rent \u001b[32mPASSED\u001b[0m\u001b[32m                                [ 18%]\u001b[0m\n",
      "test_product.py::test_product_rent_errors \u001b[32mPASSED\u001b[0m\u001b[32m                         [ 27%]\u001b[0m\n",
      "test_product.py::test_product_rent_available \u001b[32mPASSED\u001b[0m\u001b[32m                      [ 36%]\u001b[0m\n",
      "test_product.py::test_product_available_read_only \u001b[32mPASSED\u001b[0m\u001b[32m                 [ 45%]\u001b[0m\n",
      "test_product.py::test_product_price_per_week \u001b[32mPASSED\u001b[0m\u001b[32m                      [ 54%]\u001b[0m\n",
      "test_product.py::test_product_set_price_per_week_errors \u001b[32mPASSED\u001b[0m\u001b[32m           [ 63%]\u001b[0m\n",
      "test_product.py::test_product_set_rental_time \u001b[32mPASSED\u001b[0m\u001b[32m                     [ 72%]\u001b[0m\n",
      "test_product.py::test_product_set_rental_time_errors \u001b[32mPASSED\u001b[0m\u001b[32m              [ 81%]\u001b[0m\n",
      "test_product.py::test_product_rental_start_read_only \u001b[32mPASSED\u001b[0m\u001b[32m              [ 90%]\u001b[0m\n",
      "test_product.py::test_product_rental_end_read_only \u001b[32mPASSED\u001b[0m\u001b[32m                [100%]\u001b[0m\n",
      "\n",
      "\u001b[32m============================= \u001b[32m\u001b[1m11 passed\u001b[0m\u001b[32m in 0.02s\u001b[0m\u001b[32m ==============================\u001b[0m\n"
     ]
    }
   ],
   "source": [
    "! pytest test_product.py -v"
   ]
  }
 ],
 "metadata": {
  "kernelspec": {
   "display_name": "Python 3",
   "language": "python",
   "name": "python3"
  },
  "language_info": {
   "codemirror_mode": {
    "name": "ipython",
    "version": 3
   },
   "file_extension": ".py",
   "mimetype": "text/x-python",
   "name": "python",
   "nbconvert_exporter": "python",
   "pygments_lexer": "ipython3",
   "version": "3.11.3"
  }
 },
 "nbformat": 4,
 "nbformat_minor": 2
}
