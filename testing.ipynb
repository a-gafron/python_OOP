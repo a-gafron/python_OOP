{
 "cells": [
  {
   "cell_type": "code",
   "execution_count": 5,
   "metadata": {},
   "outputs": [
    {
     "name": "stdout",
     "output_type": "stream",
     "text": [
      "\u001b[1m============================= test session starts =============================\u001b[0m\n",
      "platform win32 -- Python 3.11.7, pytest-7.4.0, pluggy-1.0.0 -- C:\\Users\\Alex\\anaconda3\\python.exe\n",
      "cachedir: .pytest_cache\n",
      "rootdir: d:\\VS Code Workspace\\python_OOP\\python_OOP\n",
      "plugins: anyio-4.2.0\n",
      "\u001b[1mcollecting ... \u001b[0mcollected 11 items\n",
      "\n",
      "test_product.py::test_product_init \u001b[32mPASSED\u001b[0m\u001b[32m                                [  9%]\u001b[0m\n",
      "test_product.py::test_product_rent \u001b[32mPASSED\u001b[0m\u001b[32m                                [ 18%]\u001b[0m\n",
      "test_product.py::test_product_rent_errors \u001b[32mPASSED\u001b[0m\u001b[32m                         [ 27%]\u001b[0m\n",
      "test_product.py::test_product_rent_available \u001b[32mPASSED\u001b[0m\u001b[32m                      [ 36%]\u001b[0m\n",
      "test_product.py::test_product_available_read_only \u001b[32mPASSED\u001b[0m\u001b[32m                 [ 45%]\u001b[0m\n",
      "test_product.py::test_product_price_per_week \u001b[32mPASSED\u001b[0m\u001b[32m                      [ 54%]\u001b[0m\n",
      "test_product.py::test_product_set_price_per_week_errors \u001b[32mPASSED\u001b[0m\u001b[32m           [ 63%]\u001b[0m\n",
      "test_product.py::test_product_set_rental_time \u001b[32mPASSED\u001b[0m\u001b[32m                     [ 72%]\u001b[0m\n",
      "test_product.py::test_product_set_rental_time_errors \u001b[32mPASSED\u001b[0m\u001b[32m              [ 81%]\u001b[0m\n",
      "test_product.py::test_product_rental_start_read_only \u001b[32mPASSED\u001b[0m\u001b[32m              [ 90%]\u001b[0m\n",
      "test_product.py::test_product_rental_end_read_only \u001b[32mPASSED\u001b[0m\u001b[32m                [100%]\u001b[0m\n",
      "\n",
      "\u001b[32m============================= \u001b[32m\u001b[1m11 passed\u001b[0m\u001b[32m in 0.02s\u001b[0m\u001b[32m ==============================\u001b[0m\n"
     ]
    }
   ],
   "source": [
    "! pytest test_product.py -v"
   ]
  },
  {
   "cell_type": "code",
   "execution_count": 4,
   "metadata": {},
   "outputs": [
    {
     "name": "stdout",
     "output_type": "stream",
     "text": [
      "\u001b[1m============================= test session starts =============================\u001b[0m\n",
      "platform win32 -- Python 3.11.7, pytest-7.4.0, pluggy-1.0.0 -- C:\\Users\\Alex\\anaconda3\\python.exe\n",
      "cachedir: .pytest_cache\n",
      "rootdir: d:\\VS Code Workspace\\python_OOP\\python_OOP\n",
      "plugins: anyio-4.2.0\n",
      "\u001b[1mcollecting ... \u001b[0mcollected 7 items\n",
      "\n",
      "test_product_laptop.py::test_laptop_init \u001b[32mPASSED\u001b[0m\u001b[32m                          [ 14%]\u001b[0m\n",
      "test_product_laptop.py::test_laptop_rent \u001b[32mPASSED\u001b[0m\u001b[32m                          [ 28%]\u001b[0m\n",
      "test_product_laptop.py::test_laptop_has_max_rental_time \u001b[32mPASSED\u001b[0m\u001b[32m           [ 42%]\u001b[0m\n",
      "test_product_laptop.py::test_laptop_rent_over_max_rental_time \u001b[32mPASSED\u001b[0m\u001b[32m     [ 57%]\u001b[0m\n",
      "test_product_laptop.py::test_laptop_set_rental_time \u001b[32mPASSED\u001b[0m\u001b[32m               [ 71%]\u001b[0m\n",
      "test_product_laptop.py::test_laptop_set_rental_time_errors \u001b[32mPASSED\u001b[0m\u001b[32m        [ 85%]\u001b[0m\n",
      "test_product_laptop.py::test_laptop_creation_from_list \u001b[32mPASSED\u001b[0m\u001b[32m            [100%]\u001b[0m\n",
      "\n",
      "\u001b[32m============================== \u001b[32m\u001b[1m7 passed\u001b[0m\u001b[32m in 0.02s\u001b[0m\u001b[32m ==============================\u001b[0m\n"
     ]
    }
   ],
   "source": [
    "! pytest test_product_laptop.py -v"
   ]
  },
  {
   "cell_type": "code",
   "execution_count": 8,
   "metadata": {},
   "outputs": [
    {
     "name": "stdout",
     "output_type": "stream",
     "text": [
      "\u001b[1m============================= test session starts =============================\u001b[0m\n",
      "platform win32 -- Python 3.11.7, pytest-7.4.0, pluggy-1.0.0 -- C:\\Users\\Alex\\anaconda3\\python.exe\n",
      "cachedir: .pytest_cache\n",
      "rootdir: d:\\VS Code Workspace\\python_OOP\\python_OOP\n",
      "plugins: anyio-4.2.0\n",
      "\u001b[1mcollecting ... \u001b[0mcollected 4 items\n",
      "\n",
      "test_product_phone.py::test_phone_init \u001b[32mPASSED\u001b[0m\u001b[32m                            [ 25%]\u001b[0m\n",
      "test_product_phone.py::test_phone_rent \u001b[32mPASSED\u001b[0m\u001b[32m                            [ 50%]\u001b[0m\n",
      "test_product_phone.py::test_buyable \u001b[32mPASSED\u001b[0m\u001b[32m                               [ 75%]\u001b[0m\n",
      "test_product_phone.py::test_phone_creation_from_dict \u001b[32mPASSED\u001b[0m\u001b[32m              [100%]\u001b[0m\n",
      "\n",
      "\u001b[32m============================== \u001b[32m\u001b[1m4 passed\u001b[0m\u001b[32m in 0.02s\u001b[0m\u001b[32m ==============================\u001b[0m\n"
     ]
    }
   ],
   "source": [
    "! pytest test_product_phone.py -v"
   ]
  },
  {
   "cell_type": "code",
   "execution_count": 9,
   "metadata": {},
   "outputs": [
    {
     "name": "stdout",
     "output_type": "stream",
     "text": [
      "\u001b[1m============================= test session starts =============================\u001b[0m\n",
      "platform win32 -- Python 3.11.7, pytest-7.4.0, pluggy-1.0.0 -- C:\\Users\\Alex\\anaconda3\\python.exe\n",
      "cachedir: .pytest_cache\n",
      "rootdir: d:\\VS Code Workspace\\python_OOP\\python_OOP\n",
      "plugins: anyio-4.2.0\n",
      "\u001b[1mcollecting ... \u001b[0mcollected 1 item\n",
      "\n",
      "test_rentalstore.py::test_rentalstore_init \u001b[32mPASSED\u001b[0m\u001b[32m                        [100%]\u001b[0m\n",
      "\n",
      "\u001b[32m============================== \u001b[32m\u001b[1m1 passed\u001b[0m\u001b[32m in 0.02s\u001b[0m\u001b[32m ==============================\u001b[0m\n"
     ]
    }
   ],
   "source": [
    "! pytest test_rentalstore.py::test_rentalstore_init -v"
   ]
  },
  {
   "cell_type": "code",
   "execution_count": 13,
   "metadata": {},
   "outputs": [
    {
     "name": "stdout",
     "output_type": "stream",
     "text": [
      "\u001b[1m============================= test session starts =============================\u001b[0m\n",
      "platform win32 -- Python 3.11.7, pytest-7.4.0, pluggy-1.0.0 -- C:\\Users\\Alex\\anaconda3\\python.exe\n",
      "cachedir: .pytest_cache\n",
      "rootdir: d:\\VS Code Workspace\\python_OOP\\python_OOP\n",
      "plugins: anyio-4.2.0\n",
      "\u001b[1mcollecting ... \u001b[0mcollected 9 items\n",
      "\n",
      "test_customer.py::test_customer_init \u001b[32mPASSED\u001b[0m\u001b[32m                              [ 11%]\u001b[0m\n",
      "test_customer.py::test_customer_init_errors \u001b[32mPASSED\u001b[0m\u001b[32m                       [ 22%]\u001b[0m\n",
      "test_customer.py::test_customer_repr \u001b[32mPASSED\u001b[0m\u001b[32m                              [ 33%]\u001b[0m\n",
      "test_customer.py::test_customer_str \u001b[32mPASSED\u001b[0m\u001b[32m                               [ 44%]\u001b[0m\n",
      "test_customer.py::test_customer_rent \u001b[32mPASSED\u001b[0m\u001b[32m                              [ 55%]\u001b[0m\n",
      "test_customer.py::test_customer_rent_errors \u001b[32mPASSED\u001b[0m\u001b[32m                       [ 66%]\u001b[0m\n",
      "test_customer.py::test_customer_due_items \u001b[32mPASSED\u001b[0m\u001b[32m                         [ 77%]\u001b[0m\n",
      "test_customer.py::test_customer_pay_invoice \u001b[32mPASSED\u001b[0m\u001b[32m                       [ 88%]\u001b[0m\n",
      "test_customer.py::test_customer_buy \u001b[32mPASSED\u001b[0m\u001b[32m                               [100%]\u001b[0m\n",
      "\n",
      "\u001b[32m============================== \u001b[32m\u001b[1m9 passed\u001b[0m\u001b[32m in 0.02s\u001b[0m\u001b[32m ==============================\u001b[0m\n"
     ]
    }
   ],
   "source": [
    "! pytest test_customer.py -v"
   ]
  },
  {
   "cell_type": "code",
   "execution_count": 1,
   "metadata": {},
   "outputs": [
    {
     "name": "stdout",
     "output_type": "stream",
     "text": [
      "\u001b[1m============================= test session starts =============================\u001b[0m\n",
      "platform win32 -- Python 3.11.7, pytest-7.4.0, pluggy-1.0.0 -- C:\\Users\\Alex\\anaconda3\\python.exe\n",
      "cachedir: .pytest_cache\n",
      "rootdir: d:\\VS Code Workspace\\python_OOP\\python_OOP\n",
      "plugins: anyio-4.2.0\n",
      "\u001b[1mcollecting ... \u001b[0mcollected 8 items\n",
      "\n",
      "test_rentalstore.py::test_rentalstore_init \u001b[32mPASSED\u001b[0m\u001b[32m                        [ 12%]\u001b[0m\n",
      "test_rentalstore.py::test_rentalstore_len \u001b[32mPASSED\u001b[0m\u001b[32m                         [ 25%]\u001b[0m\n",
      "test_rentalstore.py::test_rentalstore_add_product \u001b[32mPASSED\u001b[0m\u001b[32m                 [ 37%]\u001b[0m\n",
      "test_rentalstore.py::test_rentalstore_add_product_returns_store \u001b[32mPASSED\u001b[0m\u001b[32m   [ 50%]\u001b[0m\n",
      "test_rentalstore.py::test_rentalstore_add_product_errors \u001b[32mPASSED\u001b[0m\u001b[32m          [ 62%]\u001b[0m\n",
      "test_rentalstore.py::test_rentalstore_substract_product \u001b[32mPASSED\u001b[0m\u001b[32m           [ 75%]\u001b[0m\n",
      "test_rentalstore.py::test_rentalstore_substract_product_errors \u001b[32mPASSED\u001b[0m\u001b[32m    [ 87%]\u001b[0m\n",
      "test_rentalstore.py::test_rentalstore_substract_product_returns_store \u001b[32mPASSED\u001b[0m\u001b[32m [100%]\u001b[0m\n",
      "\n",
      "\u001b[32m============================== \u001b[32m\u001b[1m8 passed\u001b[0m\u001b[32m in 0.03s\u001b[0m\u001b[32m ==============================\u001b[0m\n"
     ]
    }
   ],
   "source": [
    "! pytest test_rentalstore.py -v"
   ]
  },
  {
   "cell_type": "code",
   "execution_count": 2,
   "metadata": {},
   "outputs": [
    {
     "name": "stdout",
     "output_type": "stream",
     "text": [
      "\u001b[1m============================= test session starts =============================\u001b[0m\n",
      "platform win32 -- Python 3.11.7, pytest-7.4.0, pluggy-1.0.0 -- C:\\Users\\Alex\\anaconda3\\python.exe\n",
      "cachedir: .pytest_cache\n",
      "rootdir: d:\\VS Code Workspace\\python_OOP\\python_OOP\n",
      "plugins: anyio-4.2.0\n",
      "\u001b[1mcollecting ... \u001b[0mcollected 11 items\n",
      "\n",
      "test_product.py::test_product_init \u001b[32mPASSED\u001b[0m\u001b[32m                                [  9%]\u001b[0m\n",
      "test_product.py::test_product_rent \u001b[32mPASSED\u001b[0m\u001b[32m                                [ 18%]\u001b[0m\n",
      "test_product.py::test_product_rent_errors \u001b[32mPASSED\u001b[0m\u001b[32m                         [ 27%]\u001b[0m\n",
      "test_product.py::test_product_rent_available \u001b[32mPASSED\u001b[0m\u001b[32m                      [ 36%]\u001b[0m\n",
      "test_product.py::test_product_available_read_only \u001b[32mPASSED\u001b[0m\u001b[32m                 [ 45%]\u001b[0m\n",
      "test_product.py::test_product_price_per_week \u001b[32mPASSED\u001b[0m\u001b[32m                      [ 54%]\u001b[0m\n",
      "test_product.py::test_product_set_price_per_week_errors \u001b[32mPASSED\u001b[0m\u001b[32m           [ 63%]\u001b[0m\n",
      "test_product.py::test_product_set_rental_time \u001b[32mPASSED\u001b[0m\u001b[32m                     [ 72%]\u001b[0m\n",
      "test_product.py::test_product_set_rental_time_errors \u001b[32mPASSED\u001b[0m\u001b[32m              [ 81%]\u001b[0m\n",
      "test_product.py::test_product_rental_start_read_only \u001b[32mPASSED\u001b[0m\u001b[32m              [ 90%]\u001b[0m\n",
      "test_product.py::test_product_rental_end_read_only \u001b[32mPASSED\u001b[0m\u001b[32m                [100%]\u001b[0m\n",
      "\n",
      "\u001b[32m============================= \u001b[32m\u001b[1m11 passed\u001b[0m\u001b[32m in 0.02s\u001b[0m\u001b[32m ==============================\u001b[0m\n",
      "\u001b[1m============================= test session starts =============================\u001b[0m\n",
      "platform win32 -- Python 3.11.7, pytest-7.4.0, pluggy-1.0.0 -- C:\\Users\\Alex\\anaconda3\\python.exe\n",
      "cachedir: .pytest_cache\n",
      "rootdir: d:\\VS Code Workspace\\python_OOP\\python_OOP\n",
      "plugins: anyio-4.2.0\n",
      "\u001b[1mcollecting ... \u001b[0mcollected 7 items\n",
      "\n",
      "test_product_laptop.py::test_laptop_init \u001b[32mPASSED\u001b[0m\u001b[32m                          [ 14%]\u001b[0m\n",
      "test_product_laptop.py::test_laptop_rent \u001b[32mPASSED\u001b[0m\u001b[32m                          [ 28%]\u001b[0m\n",
      "test_product_laptop.py::test_laptop_has_max_rental_time \u001b[32mPASSED\u001b[0m\u001b[32m           [ 42%]\u001b[0m\n",
      "test_product_laptop.py::test_laptop_rent_over_max_rental_time \u001b[32mPASSED\u001b[0m\u001b[32m     [ 57%]\u001b[0m\n",
      "test_product_laptop.py::test_laptop_set_rental_time \u001b[32mPASSED\u001b[0m\u001b[32m               [ 71%]\u001b[0m\n",
      "test_product_laptop.py::test_laptop_set_rental_time_errors \u001b[32mPASSED\u001b[0m\u001b[32m        [ 85%]\u001b[0m\n",
      "test_product_laptop.py::test_laptop_creation_from_list \u001b[32mPASSED\u001b[0m\u001b[32m            [100%]\u001b[0m\n",
      "\n",
      "\u001b[32m============================== \u001b[32m\u001b[1m7 passed\u001b[0m\u001b[32m in 0.01s\u001b[0m\u001b[32m ==============================\u001b[0m\n",
      "\u001b[1m============================= test session starts =============================\u001b[0m\n",
      "platform win32 -- Python 3.11.7, pytest-7.4.0, pluggy-1.0.0 -- C:\\Users\\Alex\\anaconda3\\python.exe\n",
      "cachedir: .pytest_cache\n",
      "rootdir: d:\\VS Code Workspace\\python_OOP\\python_OOP\n",
      "plugins: anyio-4.2.0\n",
      "\u001b[1mcollecting ... \u001b[0mcollected 4 items\n",
      "\n",
      "test_product_phone.py::test_phone_init \u001b[32mPASSED\u001b[0m\u001b[32m                            [ 25%]\u001b[0m\n",
      "test_product_phone.py::test_phone_rent \u001b[32mPASSED\u001b[0m\u001b[32m                            [ 50%]\u001b[0m\n",
      "test_product_phone.py::test_buyable \u001b[32mPASSED\u001b[0m\u001b[32m                               [ 75%]\u001b[0m\n",
      "test_product_phone.py::test_phone_creation_from_dict \u001b[32mPASSED\u001b[0m\u001b[32m              [100%]\u001b[0m\n",
      "\n",
      "\u001b[32m============================== \u001b[32m\u001b[1m4 passed\u001b[0m\u001b[32m in 0.01s\u001b[0m\u001b[32m ==============================\u001b[0m\n",
      "\u001b[1m============================= test session starts =============================\u001b[0m\n",
      "platform win32 -- Python 3.11.7, pytest-7.4.0, pluggy-1.0.0 -- C:\\Users\\Alex\\anaconda3\\python.exe\n",
      "cachedir: .pytest_cache\n",
      "rootdir: d:\\VS Code Workspace\\python_OOP\\python_OOP\n",
      "plugins: anyio-4.2.0\n",
      "\u001b[1mcollecting ... \u001b[0mcollected 9 items\n",
      "\n",
      "test_customer.py::test_customer_init \u001b[32mPASSED\u001b[0m\u001b[32m                              [ 11%]\u001b[0m\n",
      "test_customer.py::test_customer_init_errors \u001b[32mPASSED\u001b[0m\u001b[32m                       [ 22%]\u001b[0m\n",
      "test_customer.py::test_customer_repr \u001b[32mPASSED\u001b[0m\u001b[32m                              [ 33%]\u001b[0m\n",
      "test_customer.py::test_customer_str \u001b[32mPASSED\u001b[0m\u001b[32m                               [ 44%]\u001b[0m\n",
      "test_customer.py::test_customer_rent \u001b[32mPASSED\u001b[0m\u001b[32m                              [ 55%]\u001b[0m\n",
      "test_customer.py::test_customer_rent_errors \u001b[32mPASSED\u001b[0m\u001b[32m                       [ 66%]\u001b[0m\n",
      "test_customer.py::test_customer_due_items \u001b[32mPASSED\u001b[0m\u001b[32m                         [ 77%]\u001b[0m\n",
      "test_customer.py::test_customer_pay_invoice \u001b[32mPASSED\u001b[0m\u001b[32m                       [ 88%]\u001b[0m\n",
      "test_customer.py::test_customer_buy \u001b[32mPASSED\u001b[0m\u001b[32m                               [100%]\u001b[0m\n",
      "\n",
      "\u001b[32m============================== \u001b[32m\u001b[1m9 passed\u001b[0m\u001b[32m in 0.02s\u001b[0m\u001b[32m ==============================\u001b[0m\n",
      "\u001b[1m============================= test session starts =============================\u001b[0m\n",
      "platform win32 -- Python 3.11.7, pytest-7.4.0, pluggy-1.0.0 -- C:\\Users\\Alex\\anaconda3\\python.exe\n",
      "cachedir: .pytest_cache\n",
      "rootdir: d:\\VS Code Workspace\\python_OOP\\python_OOP\n",
      "plugins: anyio-4.2.0\n",
      "\u001b[1mcollecting ... \u001b[0mcollected 8 items\n",
      "\n",
      "test_rentalstore.py::test_rentalstore_init \u001b[32mPASSED\u001b[0m\u001b[32m                        [ 12%]\u001b[0m\n",
      "test_rentalstore.py::test_rentalstore_len \u001b[32mPASSED\u001b[0m\u001b[32m                         [ 25%]\u001b[0m\n",
      "test_rentalstore.py::test_rentalstore_add_product \u001b[32mPASSED\u001b[0m\u001b[32m                 [ 37%]\u001b[0m\n",
      "test_rentalstore.py::test_rentalstore_add_product_returns_store \u001b[32mPASSED\u001b[0m\u001b[32m   [ 50%]\u001b[0m\n",
      "test_rentalstore.py::test_rentalstore_add_product_errors \u001b[32mPASSED\u001b[0m\u001b[32m          [ 62%]\u001b[0m\n",
      "test_rentalstore.py::test_rentalstore_substract_product \u001b[32mPASSED\u001b[0m\u001b[32m           [ 75%]\u001b[0m\n",
      "test_rentalstore.py::test_rentalstore_substract_product_errors \u001b[32mPASSED\u001b[0m\u001b[32m    [ 87%]\u001b[0m\n",
      "test_rentalstore.py::test_rentalstore_substract_product_returns_store \u001b[32mPASSED\u001b[0m\u001b[32m [100%]\u001b[0m\n",
      "\n",
      "\u001b[32m============================== \u001b[32m\u001b[1m8 passed\u001b[0m\u001b[32m in 0.02s\u001b[0m\u001b[32m ==============================\u001b[0m\n"
     ]
    }
   ],
   "source": [
    "! pytest test_product.py -v\n",
    "! pytest test_product_laptop.py -v\n",
    "! pytest test_product_phone.py -v\n",
    "! pytest test_customer.py -v\n",
    "! pytest test_rentalstore.py -v"
   ]
  }
 ],
 "metadata": {
  "kernelspec": {
   "display_name": "Python 3",
   "language": "python",
   "name": "python3"
  },
  "language_info": {
   "codemirror_mode": {
    "name": "ipython",
    "version": 3
   },
   "file_extension": ".py",
   "mimetype": "text/x-python",
   "name": "python",
   "nbconvert_exporter": "python",
   "pygments_lexer": "ipython3",
   "version": "3.11.7"
  }
 },
 "nbformat": 4,
 "nbformat_minor": 2
}
